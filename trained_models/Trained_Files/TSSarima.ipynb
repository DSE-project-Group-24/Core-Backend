{
 "cells": [
  {
   "cell_type": "code",
   "execution_count": 1,
   "id": "07b8638d",
   "metadata": {},
   "outputs": [],
   "source": [
    "# import numpy as np\n",
    "# import matplotlib.pyplot as plt\n",
    "# import pandas as pd\n",
    "# import seaborn as sns\n",
    "\n",
    "# from sklearn.metrics import mean_absolute_error, mean_squared_error"
   ]
  },
  {
   "cell_type": "code",
   "execution_count": 2,
   "id": "fc9337d0",
   "metadata": {},
   "outputs": [],
   "source": [
    "# df_RTA = pd.read_csv('RTA.csv')"
   ]
  },
  {
   "cell_type": "markdown",
   "id": "8991eda5",
   "metadata": {},
   "source": [
    "### 1.Data Preprocessing"
   ]
  },
  {
   "cell_type": "code",
   "execution_count": 3,
   "id": "7ed93816",
   "metadata": {},
   "outputs": [],
   "source": [
    "# # Convert to datetime\n",
    "# df_RTA['Incident At Time and Date'] = pd.to_datetime(df_RTA['Incident At Time and Date'])\n",
    "\n",
    "# # Set the datetime column as index\n",
    "# df_RTA.set_index('Incident At Time and Date', inplace=True)\n",
    "\n",
    "# # Group by month and count incidents\n",
    "# monthly_accidents = df_RTA.resample('M').size()\n"
   ]
  },
  {
   "cell_type": "code",
   "execution_count": 4,
   "id": "f9052229",
   "metadata": {},
   "outputs": [],
   "source": [
    "\n",
    "# monthly_accidents = monthly_accidents.iloc[1:-1]\n",
    "# monthly_accidents"
   ]
  },
  {
   "cell_type": "markdown",
   "id": "1a0921a6",
   "metadata": {},
   "source": [
    "#### 2.Visualize Monthly Accident Trend"
   ]
  },
  {
   "cell_type": "code",
   "execution_count": 5,
   "id": "fa28bd7b",
   "metadata": {},
   "outputs": [],
   "source": [
    "# plt.figure(figsize=(12, 5))\n",
    "# plt.plot(monthly_accidents, marker='o')\n",
    "# plt.title('Monthly Number of Accidents')\n",
    "# plt.xlabel('Month')\n",
    "# plt.ylabel('Number of Accidents')\n",
    "# plt.grid(True)\n",
    "# plt.tight_layout()\n",
    "# plt.show()\n"
   ]
  },
  {
   "cell_type": "markdown",
   "id": "f23f2936",
   "metadata": {},
   "source": [
    "### 3.Sarima Model\n"
   ]
  },
  {
   "cell_type": "code",
   "execution_count": 6,
   "id": "af0ac3db",
   "metadata": {},
   "outputs": [],
   "source": [
    "# from statsmodels.tsa.statespace.sarimax import SARIMAX\n",
    "\n",
    "# pred_sarima = []\n",
    "# actuals = []\n",
    "# error_sarima = []\n",
    "\n",
    "# # Rolling 1-month-ahead forecast for last 3 months\n",
    "# for i in range(3, 0, -1):\n",
    "#     train = monthly_accidents[:-i]\n",
    "#     test = monthly_accidents[-i]\n",
    "    \n",
    "#     actuals.append(test)\n",
    "    \n",
    "#     model_sarima = SARIMAX(train, order=(1,0,1), seasonal_order=(0,1,0,12),\n",
    "#                            enforce_stationarity=False, enforce_invertibility=False)\n",
    "#     fit_sarima = model_sarima.fit(disp=False)\n",
    "#     pred = fit_sarima.forecast(1)[0]\n",
    "#     pred_sarima.append(pred)\n",
    "    \n",
    "#     # Custom error\n",
    "#     error_sarima.append(abs(test - pred) / test)\n",
    "\n",
    "# # Convert to Series\n",
    "# dates_test = monthly_accidents.index[-3:]\n",
    "# actual_series = pd.Series(actuals, index=dates_test)\n",
    "# sarima_series = pd.Series(pred_sarima, index=dates_test)\n",
    "# error_series = pd.Series(error_sarima, index=dates_test)\n",
    "\n",
    "# # Metrics\n",
    "# mae = mean_absolute_error(actual_series, sarima_series)\n",
    "# rmse = np.sqrt(mean_squared_error(actual_series, sarima_series))\n",
    "# print(f\"SARIMA -> MAE: {mae:.2f}, RMSE: {rmse:.2f}\")\n",
    "# print(\"Custom Errors:\", error_series.values)\n",
    "\n",
    "# # Plot\n",
    "# plt.figure(figsize=(10,5))\n",
    "# plt.plot(monthly_accidents, label=\"Historical Data\", color=\"blue\", marker='o')\n",
    "# plt.plot(actual_series, label=\"Actual (Last 3 Months)\", color=\"green\", marker=\"s\", linestyle='None')\n",
    "# plt.plot(sarima_series, label=\"SARIMA Predicted\", color=\"orange\", marker=\"^\", linestyle='--')\n",
    "# plt.title(\"SARIMA Forecast vs Actual\")\n",
    "# plt.xlabel(\"Date\")\n",
    "# plt.ylabel(\"Number of Accidents\")\n",
    "# plt.legend()\n",
    "# plt.grid(True)\n",
    "# plt.show()\n",
    "\n",
    "# # Custom error already computed in error_sarima\n",
    "# mean_error_sarima = np.mean(error_sarima)\n",
    "# print(f\"SARIMA Mean Custom Error: {mean_error_sarima:.4f}\")"
   ]
  },
  {
   "cell_type": "markdown",
   "id": "ea47e3ae",
   "metadata": {},
   "source": [
    "Taking the best hyper parameters for the model"
   ]
  },
  {
   "cell_type": "code",
   "execution_count": 7,
   "id": "0c13a9db",
   "metadata": {},
   "outputs": [],
   "source": [
    "# import itertools\n",
    "# import numpy as np\n",
    "# import pandas as pd\n",
    "# import matplotlib.pyplot as plt\n",
    "# from statsmodels.tsa.statespace.sarimax import SARIMAX\n",
    "# from sklearn.metrics import mean_absolute_error, mean_squared_error\n",
    "\n",
    "# # Define hyperparameter grid\n",
    "# p = d = q = range(0, 2)       # you can extend (0,1,2)\n",
    "# P = D = Q = range(0, 2)       # seasonal parts\n",
    "# m_values = [6, 12]            # seasonal periods to try\n",
    "\n",
    "# pdq = list(itertools.product(p, d, q))\n",
    "# seasonal_pdq = list(itertools.product(P, D, Q, m_values))\n",
    "\n",
    "# results = []\n",
    "\n",
    "# # Iterate over all combinations\n",
    "# for order in pdq:\n",
    "#     for seasonal_order in seasonal_pdq:\n",
    "#         try:\n",
    "#             pred_sarima = []\n",
    "#             actuals = []\n",
    "#             error_sarima = []\n",
    "\n",
    "#             # Rolling forecast for last 3 months\n",
    "#             for i in range(3, 0, -1):\n",
    "#                 train = monthly_accidents[:-i]\n",
    "#                 test = monthly_accidents[-i]\n",
    "\n",
    "#                 actuals.append(test)\n",
    "\n",
    "#                 model = SARIMAX(train,\n",
    "#                                 order=order,\n",
    "#                                 seasonal_order=seasonal_order,\n",
    "#                                 enforce_stationarity=False,\n",
    "#                                 enforce_invertibility=False)\n",
    "#                 fit = model.fit(disp=False)\n",
    "#                 pred = fit.forecast(1)[0]\n",
    "#                 pred_sarima.append(pred)\n",
    "#                 error_sarima.append(abs(test - pred) / test)\n",
    "\n",
    "#             # Convert to Series\n",
    "#             dates_test = monthly_accidents.index[-3:]\n",
    "#             actual_series = pd.Series(actuals, index=dates_test)\n",
    "#             sarima_series = pd.Series(pred_sarima, index=dates_test)\n",
    "\n",
    "#             # Metrics\n",
    "#             mae = mean_absolute_error(actual_series, sarima_series)\n",
    "#             rmse = np.sqrt(mean_squared_error(actual_series, sarima_series))\n",
    "#             mean_error_sarima = np.mean(error_sarima)\n",
    "\n",
    "#             # Save results\n",
    "#             results.append((order, seasonal_order, mae, rmse, mean_error_sarima))\n",
    "\n",
    "#             # Print & plot for each iteration\n",
    "#             print(f\"Order={order}, Seasonal={seasonal_order} -> \"\n",
    "#                   f\"MAE: {mae:.2f}, RMSE: {rmse:.2f}, Custom Error Mean: {mean_error_sarima:.4f}\")\n",
    "#             print(\"Custom Errors:\", error_sarima)\n",
    "\n",
    "#             # Plot\n",
    "#             plt.figure(figsize=(10,5))\n",
    "#             plt.plot(monthly_accidents, label=\"Historical Data\", color=\"blue\", marker='o')\n",
    "#             plt.plot(actual_series, label=\"Actual (Last 3 Months)\", color=\"green\", marker=\"s\", linestyle='None')\n",
    "#             plt.plot(sarima_series, label=\"SARIMA Predicted\", color=\"orange\", marker=\"^\", linestyle='--')\n",
    "#             plt.title(f\"SARIMA Forecast vs Actual\\nOrder={order}, Seasonal={seasonal_order}\")\n",
    "#             plt.xlabel(\"Date\")\n",
    "#             plt.ylabel(\"Number of Accidents\")\n",
    "#             plt.legend()\n",
    "#             plt.grid(True)\n",
    "#             plt.show()\n",
    "\n",
    "#         except Exception as e:\n",
    "#             print(f\"Skipping order={order}, seasonal={seasonal_order} due to error: {e}\")\n",
    "#             continue\n",
    "\n",
    "# # Summarize best model\n",
    "# results_df = pd.DataFrame(results, columns=[\"Order\", \"Seasonal_Order\", \"MAE\", \"RMSE\", \"CustomError\"])\n",
    "# best_model = results_df.loc[results_df[\"CustomError\"].idxmin()]\n",
    "# print(\"\\nBest Model based on Custom Error:\")\n",
    "# print(best_model)\n"
   ]
  },
  {
   "cell_type": "markdown",
   "id": "4ed53dcd",
   "metadata": {},
   "source": [
    "### Use this as the final model"
   ]
  },
  {
   "cell_type": "code",
   "execution_count": 8,
   "id": "d4845bff",
   "metadata": {},
   "outputs": [],
   "source": [
    "# import pandas as pd\n",
    "# from statsmodels.tsa.statespace.sarimax import SARIMAX\n",
    "# import joblib  # for saving/loading model\n",
    "\n",
    "# # Example training\n",
    "# model = SARIMAX(monthly_accidents, order=(1,1,1), seasonal_order=(1,1,1,12))\n",
    "# results = model.fit()\n",
    "\n",
    "# # Save model\n",
    "# joblib.dump(results, \"sarima_model.pkl\")\n"
   ]
  },
  {
   "cell_type": "code",
   "execution_count": 9,
   "id": "3d555418",
   "metadata": {},
   "outputs": [],
   "source": [
    "from fastapi import FastAPI\n",
    "import joblib\n",
    "import pandas as pd\n",
    "\n",
    "app = FastAPI()\n",
    "\n",
    "# Load trained SARIMA model\n",
    "model = joblib.load(\"sarima_model.pkl\")\n",
    "\n",
    "@app.post(\"/forecast\")\n",
    "def forecast(months: int):\n",
    "    # Forecast given number of months\n",
    "    forecast = model.get_forecast(steps=months)\n",
    "    forecast_df = forecast.summary_frame()\n",
    "    \n",
    "    # Convert to dictionary for JSON response\n",
    "    return forecast_df.to_dict(orient=\"records\")\n"
   ]
  },
  {
   "cell_type": "code",
   "execution_count": 13,
   "id": "4831bff0",
   "metadata": {},
   "outputs": [
    {
     "name": "stdout",
     "output_type": "stream",
     "text": [
      "[{'mean': 132.3118069033196, 'mean_se': 70.98118484485786, 'mean_ci_lower': -6.808758972582126, 'mean_ci_upper': 271.4323727792213}, {'mean': 192.82672884748615, 'mean_se': 82.42712848976694, 'mean_ci_lower': 31.272525658487524, 'mean_ci_upper': 354.38093203648475}]\n"
     ]
    }
   ],
   "source": [
    "def forecast(months: int):\n",
    "    # Forecast given number of months\n",
    "    forecast = model.get_forecast(steps=months)\n",
    "    forecast_df = forecast.summary_frame()\n",
    "    \n",
    "    # Convert to dictionary for JSON response\n",
    "    return forecast_df.to_dict(orient=\"records\")\n",
    "\n",
    "print(forecast(2))"
   ]
  },
  {
   "cell_type": "code",
   "execution_count": null,
   "id": "654f37d2",
   "metadata": {},
   "outputs": [],
   "source": []
  }
 ],
 "metadata": {
  "kernelspec": {
   "display_name": "Python 3",
   "language": "python",
   "name": "python3"
  },
  "language_info": {
   "codemirror_mode": {
    "name": "ipython",
    "version": 3
   },
   "file_extension": ".py",
   "mimetype": "text/x-python",
   "name": "python",
   "nbconvert_exporter": "python",
   "pygments_lexer": "ipython3",
   "version": "3.11.2"
  }
 },
 "nbformat": 4,
 "nbformat_minor": 5
}
